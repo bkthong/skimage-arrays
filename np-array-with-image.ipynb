{
 "cells": [
  {
   "cell_type": "markdown",
   "id": "ecb73869",
   "metadata": {},
   "source": [
    "# Overview\n",
    "- Using numpy for array manipulation\n",
    "- skimage for reading the jpg image into a numpy array\n",
    "- matplotlib to display the image based on the numpy array"
   ]
  },
  {
   "cell_type": "markdown",
   "id": "f6231c19",
   "metadata": {},
   "source": [
    "## Basic np array testing"
   ]
  },
  {
   "cell_type": "code",
   "execution_count": null,
   "id": "d6f5b65f",
   "metadata": {},
   "outputs": [],
   "source": [
    "import numpy as np\n",
    "\n",
    "myarray = np.array([ [8,9,0] ,\n",
    "                     [1,2,3] ,\n",
    "                     [3,4,5] ])\n",
    "print(type(myarray))"
   ]
  },
  {
   "cell_type": "code",
   "execution_count": null,
   "id": "be97f634",
   "metadata": {},
   "outputs": [],
   "source": [
    "print(myarray[2,2])\n"
   ]
  },
  {
   "cell_type": "markdown",
   "id": "46996576",
   "metadata": {},
   "source": [
    "## Using scikit image library with Numpy\n",
    "- We load a jpeg photos as a np array. \n",
    "- It will be a 3D array"
   ]
  },
  {
   "cell_type": "code",
   "execution_count": null,
   "id": "686ad3bf",
   "metadata": {},
   "outputs": [],
   "source": [
    "pip install scikit-image"
   ]
  },
  {
   "cell_type": "code",
   "execution_count": null,
   "id": "3bbb1633",
   "metadata": {},
   "outputs": [],
   "source": [
    "from skimage import io"
   ]
  },
  {
   "cell_type": "markdown",
   "id": "2ad56100",
   "metadata": {},
   "source": [
    "### An image is a 3-D array. 2-D of pixels where each pixel has an array of 3 RGB values \n",
    "- We read the photo \n",
    "- We also show its shape (dimensions)\n",
    "- \"photo\" is now a np 3D array and we can use standard np methods to manipulate the array"
   ]
  },
  {
   "cell_type": "code",
   "execution_count": null,
   "id": "72b1f7b9",
   "metadata": {},
   "outputs": [],
   "source": [
    "photo = io.imread('myphoto.jpg')\n",
    "print(photo.shape)"
   ]
  },
  {
   "cell_type": "markdown",
   "id": "9975a1ff",
   "metadata": {},
   "source": [
    "### Using matplotlib to display the image"
   ]
  },
  {
   "cell_type": "code",
   "execution_count": null,
   "id": "514e9dad",
   "metadata": {},
   "outputs": [],
   "source": [
    "import matplotlib.pyplot as plt\n",
    "plt.imshow(photo)"
   ]
  },
  {
   "cell_type": "markdown",
   "id": "9204f88c",
   "metadata": {},
   "source": [
    "### Add 50 to the RGB values of all pixels. No error handling here if value exceeds 255\n",
    "- Image becomes brighter"
   ]
  },
  {
   "cell_type": "code",
   "execution_count": null,
   "id": "71603506",
   "metadata": {},
   "outputs": [],
   "source": [
    "brighter_photo = photo + (50,50,50)\n",
    "plt.imshow(brighter_photo)"
   ]
  },
  {
   "cell_type": "markdown",
   "id": "14f54185",
   "metadata": {},
   "source": [
    "### We slice the photos 3D array to take rows 2500 onwards, all columns and all rgb values"
   ]
  },
  {
   "cell_type": "code",
   "execution_count": null,
   "id": "e07b1b9d",
   "metadata": {},
   "outputs": [],
   "source": [
    "plt.imshow(photo[2500:,:,:])"
   ]
  }
 ],
 "metadata": {
  "kernelspec": {
   "display_name": "Python 3 (ipykernel)",
   "language": "python",
   "name": "python3"
  },
  "language_info": {
   "codemirror_mode": {
    "name": "ipython",
    "version": 3
   },
   "file_extension": ".py",
   "mimetype": "text/x-python",
   "name": "python",
   "nbconvert_exporter": "python",
   "pygments_lexer": "ipython3",
   "version": "3.9.12"
  }
 },
 "nbformat": 4,
 "nbformat_minor": 5
}
